{
 "cells": [
  {
   "cell_type": "code",
   "execution_count": 7,
   "metadata": {},
   "outputs": [
    {
     "data": {
      "text/plain": [
       "Index(['Crewed or Uncrewed', 'High Temp', 'Low Temp', 'Ave Temp',\n",
       "       'Temp at Launch Time', 'Hist High Temp', 'Hist Low Temp',\n",
       "       'Hist Ave Temp', 'Percipitation at Launch Time',\n",
       "       'Hist Ave Percipitation', 'Wind Direction', 'Max Wind Speed',\n",
       "       'Visibility', 'Wind Speed at Launch Time', 'Condition'],\n",
       "      dtype='object')"
      ]
     },
     "execution_count": 7,
     "metadata": {},
     "output_type": "execute_result"
    }
   ],
   "source": [
    "# Pandas library is used for handling tabular data\n",
    "import pandas as pd\n",
    "\n",
    "# NumPy is used for handling numerical series operations (addition, multiplication, and ...)\n",
    "\n",
    "import numpy as np\n",
    "# Sklearn library contains all the machine learning packages we need to digest and extract patterns from the data\n",
    "from sklearn import linear_model, model_selection, metrics\n",
    "from sklearn.model_selection import train_test_split\n",
    "\n",
    "# Machine learning libraries used to build a decision tree\n",
    "from sklearn.tree import DecisionTreeClassifier\n",
    "from sklearn import tree\n",
    "\n",
    "# Sklearn's preprocessing library is used for processing and cleaning the data \n",
    "from sklearn import preprocessing\n",
    "\n",
    "# for visualizing the tree\n",
    "import pydotplus\n",
    "from IPython.display import Image \n",
    "launch_data = pd.read_excel('RocketLaunchDataCompleted.xlsx')\n",
    "launch_data.head()\n",
    "launch_data.columns\n",
    "\n",
    "## To handle missing values, we will fill the missing values with appropriate values \n",
    "launch_data['Launched?'].fillna('N',inplace=True)\n",
    "launch_data['Crewed or Uncrewed'].fillna('Uncrewed',inplace=True)\n",
    "launch_data['Wind Direction'].fillna('unknown',inplace=True)\n",
    "launch_data['Condition'].fillna('Fair',inplace=True)\n",
    "launch_data.fillna(0,inplace=True)\n",
    "launch_data.head()\n",
    "## As part of the data cleaning process, we have to convert text data to numerical because computers understand only numbers\n",
    "label_encoder = preprocessing.LabelEncoder()\n",
    "\n",
    "# Three columns have categorical text info, and we convert them to numbers\n",
    "launch_data['Crewed or Uncrewed'] = label_encoder.fit_transform(launch_data['Crewed or Uncrewed'])\n",
    "launch_data['Wind Direction'] = label_encoder.fit_transform(launch_data['Wind Direction'])\n",
    "launch_data['Condition'] = label_encoder.fit_transform(launch_data['Condition'])\n",
    "launch_data.head()\n",
    "\n",
    "# First, we save the output we are interested in. In this case, \"launch\" yes and no's go into the output variable.\n",
    "y = launch_data['Launched?']\n",
    "\n",
    "# Removing the columns we are not interested in\n",
    "launch_data.drop(['Name','Date','Time (East Coast)','Location','Launched?','Hist Ave Sea Level Pressure','Sea Level Pressure','Day Length','Notes','Hist Ave Visibility', 'Hist Ave Max Wind Speed'],axis=1, inplace=True)\n",
    "\n",
    "# Saving the rest of the data as input data\n",
    "X = launch_data\n",
    "# List of variables that our machine learning algorithm is going to look at:\n",
    "X.columns\n",
    "\n"
   ]
  },
  {
   "cell_type": "code",
   "execution_count": 8,
   "metadata": {},
   "outputs": [
    {
     "name": "stdout",
     "output_type": "stream",
     "text": [
      "['N' 'N' 'N' 'Y' 'N' 'N' 'N' 'N' 'Y' 'Y' 'N' 'Y' 'N' 'N' 'N' 'N' 'N' 'N'\n",
      " 'N' 'N' 'N' 'N' 'Y' 'Y' 'N' 'N' 'N' 'N' 'N' 'N' 'N' 'Y' 'N' 'N' 'N' 'N'\n",
      " 'N' 'N' 'N' 'N' 'N' 'N' 'Y' 'N' 'N' 'N' 'Y' 'N' 'N' 'N' 'N' 'N' 'N' 'N'\n",
      " 'N' 'N' 'N' 'N' 'N' 'Y']\n"
     ]
    },
    {
     "data": {
      "text/plain": [
       "0.9833333333333333"
      ]
     },
     "execution_count": 8,
     "metadata": {},
     "output_type": "execute_result"
    }
   ],
   "source": [
    "# Crea un arbol de decisiones\n",
    "tree_model = DecisionTreeClassifier(random_state=0,max_depth=5)\n",
    "X_train, X_test, y_train, y_test = train_test_split(X,y, test_size=0.2, random_state=99)\n",
    "# Fitting the model to the training data\n",
    "tree_model.fit(X_train,y_train)\n",
    "# Do prediction on test Data\n",
    "y_pred = tree_model.predict(X_test)\n",
    "print(y_pred)\n",
    "# Calculate accuracy\n",
    "tree_model.score(X_test,y_test)\n",
    "# ['Crewed or Uncrewed', 'High Temp', 'Low Temp', 'Ave Temp',\n",
    "#        'Temp at Launch Time', 'Hist High Temp', 'Hist Low Temp',\n",
    "#        'Hist Ave Temp', 'Precipitation at Launch Time',\n",
    "#        'Hist Ave Precipitation', 'Wind Direction', 'Max Wind Speed',\n",
    "#        'Visibility', 'Wind Speed at Launch Time', 'Hist Ave Max Wind Speed',\n",
    "#        'Hist Ave Visibility', 'Condition']\n",
    "\n",
    "data_input = [ 1.  , 75.  , 68.  , 71.  ,  0.  , 75.  , 55.  , 65.  ,  0.  , 0.08,  0.  , 16.  , 15.  ,  0.  ,  0. ]\n",
    "\n",
    "tree_model.predict([data_input])\n"
   ]
  },
  {
   "cell_type": "code",
   "execution_count": 11,
   "metadata": {},
   "outputs": [
    {
     "data": {
      "text/html": [
       "<div>\n",
       "<style scoped>\n",
       "    .dataframe tbody tr th:only-of-type {\n",
       "        vertical-align: middle;\n",
       "    }\n",
       "\n",
       "    .dataframe tbody tr th {\n",
       "        vertical-align: top;\n",
       "    }\n",
       "\n",
       "    .dataframe thead th {\n",
       "        text-align: right;\n",
       "    }\n",
       "</style>\n",
       "<table border=\"1\" class=\"dataframe\">\n",
       "  <thead>\n",
       "    <tr style=\"text-align: right;\">\n",
       "      <th></th>\n",
       "      <th>Crewed or Uncrewed</th>\n",
       "      <th>High Temp</th>\n",
       "      <th>Low Temp</th>\n",
       "      <th>Ave Temp</th>\n",
       "      <th>Temp at Launch Time</th>\n",
       "      <th>Hist High Temp</th>\n",
       "      <th>Hist Low Temp</th>\n",
       "      <th>Hist Ave Temp</th>\n",
       "      <th>Percipitation at Launch Time</th>\n",
       "      <th>Hist Ave Percipitation</th>\n",
       "      <th>Wind Direction</th>\n",
       "      <th>Max Wind Speed</th>\n",
       "      <th>Visibility</th>\n",
       "      <th>Wind Speed at Launch Time</th>\n",
       "      <th>Condition</th>\n",
       "    </tr>\n",
       "  </thead>\n",
       "  <tbody>\n",
       "    <tr>\n",
       "      <th>292</th>\n",
       "      <td>0</td>\n",
       "      <td>86.0</td>\n",
       "      <td>70.0</td>\n",
       "      <td>75.02</td>\n",
       "      <td>74.0</td>\n",
       "      <td>87.0</td>\n",
       "      <td>70.0</td>\n",
       "      <td>79.0</td>\n",
       "      <td>0.28</td>\n",
       "      <td>0.15</td>\n",
       "      <td>4</td>\n",
       "      <td>32.0</td>\n",
       "      <td>10.0</td>\n",
       "      <td>25.0</td>\n",
       "      <td>2</td>\n",
       "    </tr>\n",
       "  </tbody>\n",
       "</table>\n",
       "</div>"
      ],
      "text/plain": [
       "     Crewed or Uncrewed  High Temp  Low Temp  Ave Temp  Temp at Launch Time  \\\n",
       "292                   0       86.0      70.0     75.02                 74.0   \n",
       "\n",
       "     Hist High Temp  Hist Low Temp  Hist Ave Temp  \\\n",
       "292            87.0           70.0           79.0   \n",
       "\n",
       "     Percipitation at Launch Time  Hist Ave Percipitation  Wind Direction  \\\n",
       "292                          0.28                    0.15               4   \n",
       "\n",
       "     Max Wind Speed  Visibility  Wind Speed at Launch Time  Condition  \n",
       "292            32.0        10.0                       25.0          2  "
      ]
     },
     "execution_count": 11,
     "metadata": {},
     "output_type": "execute_result"
    }
   ],
   "source": [
    "# Let's import a library for visualizing our decision tree.\n",
    "from sklearn.tree import export_graphviz\n",
    "\n",
    "def tree_graph_to_png(tree, feature_names,class_names, png_file_to_save):\n",
    "    tree_str = export_graphviz(tree, feature_names=feature_names, class_names=class_names,\n",
    "                                     filled=True, out_file=None)\n",
    "    graph = pydotplus.graph_from_dot_data(tree_str)  \n",
    "    return Image(graph.create_png())\n",
    "\n",
    "# This function takes a machine learning model and visualizes it.\n",
    "tree_graph_to_png(tree=tree_model, feature_names=X.columns.values,class_names=['No Launch','Launch'], png_file_to_save='decision-tree.png')\n",
    "launch_data[(launch_data['Wind Speed at Launch Time'] > 1) & (launch_data['Max Wind Speed'] > 30.5)]"
   ]
  }
 ],
 "metadata": {
  "kernelspec": {
   "display_name": "myenv",
   "language": "python",
   "name": "python3"
  },
  "language_info": {
   "codemirror_mode": {
    "name": "ipython",
    "version": 3
   },
   "file_extension": ".py",
   "mimetype": "text/x-python",
   "name": "python",
   "nbconvert_exporter": "python",
   "pygments_lexer": "ipython3",
   "version": "3.8.16"
  },
  "orig_nbformat": 4
 },
 "nbformat": 4,
 "nbformat_minor": 2
}
